{
 "cells": [
  {
   "cell_type": "markdown",
   "metadata": {},
   "source": [
    "# WEATHER 2019\n",
    "[reference]  \n",
    "tutorial on XML processing with lxml.etree https://lxml.de/tutorial.html     \n",
    "Python XML with ElementTree: Beginner's Guide https://www.datacamp.com/community/tutorials/python-xml-elementtree   \n",
    "\n",
    "Python Dictionary https://www.programiz.com/python-programming/dictionary  \n",
    "How to use JSON with Python https://developer.rhino3d.com/guides/rhinopython/python-xml-json/  \n",
    "JSON Formatter https://jsonformatter.curiousconcept.com/  \n",
    "\n"
   ]
  },
  {
   "cell_type": "code",
   "execution_count": 203,
   "metadata": {},
   "outputs": [
    {
     "name": "stdout",
     "output_type": "stream",
     "text": [
      "Please put your filename: \n",
      "data\n",
      "Finished convert XML to JSON\n"
     ]
    }
   ],
   "source": [
    "import xml.etree.cElementTree as et\n",
    "import json\n",
    "\n",
    "##Convert Function \n",
    "def XML_to_JSON(filename):\n",
    "    # read .xml file\n",
    "    filexml = filename + \".xml\"\n",
    "    parsedXML = et.parse(filexml)\n",
    "    \n",
    "    # temporary dictionary\n",
    "    temp = dict()\n",
    "    \n",
    "    # access node from root\n",
    "    for node in parsedXML.getroot():\n",
    "        temp[node.tag] = node.attrib\n",
    "        \n",
    "        # access child from node\n",
    "        for child in node.iter() :\n",
    "            if node.tag != child.tag: \n",
    "                if child.attrib:\n",
    "                    temp[node.tag][child.tag] = child.attrib\n",
    "                elif child.text:\n",
    "                    temp[node.tag][child.tag] = child.text\n",
    "                    \n",
    "    filejson = \"./\" + filename + \".json\"\n",
    "    with open(filejson, 'w') as write_file:\n",
    "        json.dump(temp, write_file)\n",
    "    print(\"Finished convert XML to JSON\")\n",
    "        \n",
    "print('Please put your filename: ')\n",
    "filename = input()\n",
    "XML_to_JSON(filename)"
   ]
  }
 ],
 "metadata": {
  "kernelspec": {
   "display_name": "Python 3",
   "language": "python",
   "name": "python3"
  },
  "language_info": {
   "codemirror_mode": {
    "name": "ipython",
    "version": 3
   },
   "file_extension": ".py",
   "mimetype": "text/x-python",
   "name": "python",
   "nbconvert_exporter": "python",
   "pygments_lexer": "ipython3",
   "version": "3.6.4"
  }
 },
 "nbformat": 4,
 "nbformat_minor": 2
}
