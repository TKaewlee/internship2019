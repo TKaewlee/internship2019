{
 "cells": [
  {
   "cell_type": "code",
   "execution_count": 1,
   "metadata": {},
   "outputs": [],
   "source": [
    "import pandas as pd\n",
    "data = { 'words' : words,\n",
    "         'hints' : hint_list}\n",
    "print('Data Done')\n",
    "\n",
    "#     ### JSON File \n",
    "#     filename = './Categories/' + Lists[i] + '.json'\n",
    "#     with open(filename, \"w\") as write_file:\n",
    "#         json.dump(data, write_file)"
   ]
  },
  {
   "cell_type": "markdown",
   "metadata": {},
   "source": [
    "https://lxml.de/tutorial.html\n",
    "https://gokhanatil.com/2017/11/python-for-data-science-importing-xml-to-pandas-dataframe.html\n",
    "https://www.datacamp.com/community/tutorials/python-xml-elementtree"
   ]
  },
  {
   "cell_type": "code",
   "execution_count": 31,
   "metadata": {},
   "outputs": [],
   "source": [
    "import xml.etree.cElementTree as et\n",
    " \n",
    "parsedXML = et.parse( \"data.xml\" )"
   ]
  },
  {
   "cell_type": "code",
   "execution_count": 46,
   "metadata": {
    "scrolled": true
   },
   "outputs": [
    {
     "name": "stdout",
     "output_type": "stream",
     "text": [
      "city\n",
      "\t{'id': '2643741', 'name': 'City of London'}\n",
      "temperature\n",
      "\t{'value': '72.34', 'min': '66.2', 'max': '79.88', 'unit': 'fahrenheit'}\n",
      "humidity\n",
      "\t{'value': '43', 'unit': '%'}\n",
      "pressure\n",
      "\t{'value': '1020', 'unit': 'hPa'}\n",
      "wind\n",
      "\t{}\n",
      "clouds\n",
      "\t{'value': '0', 'name': 'clear sky'}\n",
      "visibility\n",
      "\t{'value': '10000'}\n",
      "precipitation\n",
      "\t{'mode': 'no'}\n",
      "weather\n",
      "\t{'number': '800', 'value': 'Sky is Clear', 'icon': '01d'}\n",
      "lastupdate\n",
      "\t{'value': '2015-06-30T08:36:14'}\n"
     ]
    },
    {
     "data": {
      "text/plain": [
       "['city',\n",
       " 'temperature',\n",
       " 'humidity',\n",
       " 'pressure',\n",
       " 'wind',\n",
       " 'clouds',\n",
       " 'visibility',\n",
       " 'precipitation',\n",
       " 'weather',\n",
       " 'lastupdate']"
      ]
     },
     "execution_count": 46,
     "metadata": {},
     "output_type": "execute_result"
    }
   ],
   "source": [
    "dfcols = []\n",
    "for node in parsedXML.getroot():\n",
    "    print(str(node.tag) + '\\n\\t' + str(node.attrib))\n",
    "    dfcols.append(str(node.tag))\n",
    "dfcols"
   ]
  },
  {
   "cell_type": "code",
   "execution_count": 168,
   "metadata": {},
   "outputs": [
    {
     "data": {
      "text/plain": [
       "'current'"
      ]
     },
     "execution_count": 168,
     "metadata": {},
     "output_type": "execute_result"
    }
   ],
   "source": [
    "node = parsedXML.getroot()\n",
    "node.tag"
   ]
  },
  {
   "cell_type": "code",
   "execution_count": 42,
   "metadata": {},
   "outputs": [
    {
     "data": {
      "text/plain": [
       "b'<current>\\n  <city id=\"2643741\" name=\"City of London\">\\n    <coord lat=\"51.51\" lon=\"-0.09\" />\\n    <country>GB</country>\\n    <sun rise=\"2015-06-30T03:46:57\" set=\"2015-06-30T20:21:12\" />\\n  </city>\\n  <temperature max=\"79.88\" min=\"66.2\" unit=\"fahrenheit\" value=\"72.34\" />\\n  <humidity unit=\"%\" value=\"43\" />\\n  <pressure unit=\"hPa\" value=\"1020\" />\\n  <wind>\\n    <speed name=\"Moderate breeze\" value=\"7.78\" />\\n    <direction code=\"SE\" name=\"SouthEast\" value=\"140\" />\\n  </wind>\\n  <clouds name=\"clear sky\" value=\"0\" />\\n  <visibility value=\"10000\" />\\n  <precipitation mode=\"no\" />\\n  <weather icon=\"01d\" number=\"800\" value=\"Sky is Clear\" />\\n  <lastupdate value=\"2015-06-30T08:36:14\" />\\n</current>'"
      ]
     },
     "execution_count": 42,
     "metadata": {},
     "output_type": "execute_result"
    }
   ],
   "source": [
    "et.tostring(node)"
   ]
  },
  {
   "cell_type": "code",
   "execution_count": 84,
   "metadata": {},
   "outputs": [
    {
     "data": {
      "text/html": [
       "<div>\n",
       "<style scoped>\n",
       "    .dataframe tbody tr th:only-of-type {\n",
       "        vertical-align: middle;\n",
       "    }\n",
       "\n",
       "    .dataframe tbody tr th {\n",
       "        vertical-align: top;\n",
       "    }\n",
       "\n",
       "    .dataframe thead th {\n",
       "        text-align: right;\n",
       "    }\n",
       "</style>\n",
       "<table border=\"1\" class=\"dataframe\">\n",
       "  <thead>\n",
       "    <tr style=\"text-align: right;\">\n",
       "      <th></th>\n",
       "      <th>city</th>\n",
       "      <th>temperature</th>\n",
       "      <th>humidity</th>\n",
       "      <th>pressure</th>\n",
       "      <th>wind</th>\n",
       "      <th>clouds</th>\n",
       "      <th>visibility</th>\n",
       "      <th>precipitation</th>\n",
       "      <th>weather</th>\n",
       "      <th>lastupdate</th>\n",
       "    </tr>\n",
       "  </thead>\n",
       "  <tbody>\n",
       "  </tbody>\n",
       "</table>\n",
       "</div>"
      ],
      "text/plain": [
       "Empty DataFrame\n",
       "Columns: [city, temperature, humidity, pressure, wind, clouds, visibility, precipitation, weather, lastupdate]\n",
       "Index: []"
      ]
     },
     "execution_count": 84,
     "metadata": {},
     "output_type": "execute_result"
    }
   ],
   "source": [
    "df_xml = pd.DataFrame(columns=dfcols)\n",
    "df_xml"
   ]
  },
  {
   "cell_type": "code",
   "execution_count": 188,
   "metadata": {
    "scrolled": true
   },
   "outputs": [],
   "source": [
    "# df_xml = pd.DataFrame(columns=dfcols)\n",
    "temp = dict()\n",
    "\n",
    "for node in parsedXML.getroot():\n",
    "#     print(str(node.tag) + '\\t' + str(node.attrib))\n",
    "    temp[node.tag] = node.attrib\n",
    "    \n",
    "    for child in node.iter() :\n",
    "        if node.tag != child.tag: \n",
    "            if child.attrib:\n",
    "                temp[node.tag][child.tag] = child.attrib\n",
    "            elif child.text:\n",
    "                temp[node.tag][child.tag] = child.text\n",
    "                "
   ]
  },
  {
   "cell_type": "code",
   "execution_count": 189,
   "metadata": {
    "scrolled": false
   },
   "outputs": [
    {
     "data": {
      "text/plain": [
       "{'city': {'coord': {'lat': '51.51', 'lon': '-0.09'},\n",
       "  'country': 'GB',\n",
       "  'id': '2643741',\n",
       "  'name': 'City of London',\n",
       "  'sun': {'rise': '2015-06-30T03:46:57', 'set': '2015-06-30T20:21:12'}},\n",
       " 'clouds': {'name': 'clear sky', 'value': '0'},\n",
       " 'humidity': {'unit': '%', 'value': '43'},\n",
       " 'lastupdate': {'value': '2015-06-30T08:36:14'},\n",
       " 'precipitation': {'mode': 'no'},\n",
       " 'pressure': {'unit': 'hPa', 'value': '1020'},\n",
       " 'temperature': {'max': '79.88',\n",
       "  'min': '66.2',\n",
       "  'unit': 'fahrenheit',\n",
       "  'value': '72.34'},\n",
       " 'visibility': {'value': '10000'},\n",
       " 'weather': {'icon': '01d', 'number': '800', 'value': 'Sky is Clear'},\n",
       " 'wind': {'direction': {'code': 'SE', 'name': 'SouthEast', 'value': '140'},\n",
       "  'speed': {'name': 'Moderate breeze', 'value': '7.78'}}}"
      ]
     },
     "execution_count": 189,
     "metadata": {},
     "output_type": "execute_result"
    }
   ],
   "source": [
    "temp"
   ]
  },
  {
   "cell_type": "code",
   "execution_count": 193,
   "metadata": {},
   "outputs": [],
   "source": [
    "import json\n",
    "r = json.dumps(temp)"
   ]
  },
  {
   "cell_type": "code",
   "execution_count": 194,
   "metadata": {},
   "outputs": [
    {
     "data": {
      "text/plain": [
       "'{\"city\": {\"id\": \"2643741\", \"name\": \"City of London\", \"coord\": {\"lon\": \"-0.09\", \"lat\": \"51.51\"}, \"country\": \"GB\", \"sun\": {\"rise\": \"2015-06-30T03:46:57\", \"set\": \"2015-06-30T20:21:12\"}}, \"temperature\": {\"value\": \"72.34\", \"min\": \"66.2\", \"max\": \"79.88\", \"unit\": \"fahrenheit\"}, \"humidity\": {\"value\": \"43\", \"unit\": \"%\"}, \"pressure\": {\"value\": \"1020\", \"unit\": \"hPa\"}, \"wind\": {\"speed\": {\"value\": \"7.78\", \"name\": \"Moderate breeze\"}, \"direction\": {\"value\": \"140\", \"code\": \"SE\", \"name\": \"SouthEast\"}}, \"clouds\": {\"value\": \"0\", \"name\": \"clear sky\"}, \"visibility\": {\"value\": \"10000\"}, \"precipitation\": {\"mode\": \"no\"}, \"weather\": {\"number\": \"800\", \"value\": \"Sky is Clear\", \"icon\": \"01d\"}, \"lastupdate\": {\"value\": \"2015-06-30T08:36:14\"}}'"
      ]
     },
     "execution_count": 194,
     "metadata": {},
     "output_type": "execute_result"
    }
   ],
   "source": [
    "filename = \"./data.json\"\n",
    "# If the file name exists, write a JSON string into the file.\n",
    "if filename:\n",
    "    # Writing JSON data\n",
    "    with open(filename, 'w') as write_file:\n",
    "        json.dump(temp, f)\n",
    "        \n",
    "#     ### JSON File \n",
    "#     filename = './Categories/' + Lists[i] + '.json'\n",
    "#     with open(filename, \"w\") as write_file:\n",
    "#         json.dump(data, write_file)"
   ]
  }
 ],
 "metadata": {
  "kernelspec": {
   "display_name": "Python 3",
   "language": "python",
   "name": "python3"
  },
  "language_info": {
   "codemirror_mode": {
    "name": "ipython",
    "version": 3
   },
   "file_extension": ".py",
   "mimetype": "text/x-python",
   "name": "python",
   "nbconvert_exporter": "python",
   "pygments_lexer": "ipython3",
   "version": "3.6.4"
  }
 },
 "nbformat": 4,
 "nbformat_minor": 2
}
