{
 "cells": [
  {
   "cell_type": "markdown",
   "metadata": {},
   "source": [
    "# Generating Words for Hangman \n",
    "[reference]  \n",
    "ESL / EFL Basic Vocabulary Word Lists http://www.manythings.org/vocabulary/lists/a/  \n",
    "HTML Scraping https://docs.python-guide.org/scenarios/scrape/   \n",
    "English Oxford Living Dictionary https://en.oxforddictionaries.com/definition/"
   ]
  },
  {
   "cell_type": "code",
   "execution_count": 38,
   "metadata": {},
   "outputs": [],
   "source": [
    "from lxml import html\n",
    "import requests\n",
    "import pandas as pd"
   ]
  },
  {
   "cell_type": "code",
   "execution_count": 39,
   "metadata": {},
   "outputs": [],
   "source": [
    "web = 'https://www.manythings.org/vocabulary/lists/a/'\n",
    "page = requests.get(web)\n",
    "tree = html.fromstring(page.content)"
   ]
  },
  {
   "cell_type": "code",
   "execution_count": 40,
   "metadata": {},
   "outputs": [
    {
     "data": {
      "text/plain": [
       "(29, 29)"
      ]
     },
     "execution_count": 40,
     "metadata": {},
     "output_type": "execute_result"
    }
   ],
   "source": [
    "# @Example <li><a href=\"words.php?f=colours-1\">The Basic Colours (British Spellings)</a></li>\n",
    "Lists = tree.xpath('//li//a[@href]/text()')\n",
    "Links = tree.xpath('//li//a/@href')\n",
    "len(Lists), len(Links)"
   ]
  },
  {
   "cell_type": "code",
   "execution_count": 41,
   "metadata": {},
   "outputs": [
    {
     "data": {
      "text/plain": [
       "['Adjectives for People',\n",
       " 'Adverbs of Time',\n",
       " 'Animals',\n",
       " 'Bank',\n",
       " 'Baseball',\n",
       " 'Body',\n",
       " 'Buildings and Places',\n",
       " 'Car Parts (US)',\n",
       " 'City',\n",
       " 'Classroom',\n",
       " 'Clothes',\n",
       " 'The Basic Colors (American Spellings)',\n",
       " 'The Basic Colours (British Spellings)',\n",
       " 'Cooking',\n",
       " 'Days of the Week',\n",
       " 'Desserts',\n",
       " 'Dinner Table',\n",
       " 'Family Members',\n",
       " 'Fruit',\n",
       " 'Geography',\n",
       " 'House',\n",
       " 'Months',\n",
       " 'Numbers 1-10',\n",
       " 'Numbers 1-20',\n",
       " 'Restaurant',\n",
       " 'Tools',\n",
       " 'Transportation',\n",
       " 'Vegetables',\n",
       " 'Weather']"
      ]
     },
     "execution_count": 41,
     "metadata": {},
     "output_type": "execute_result"
    }
   ],
   "source": [
    "Lists"
   ]
  },
  {
   "cell_type": "code",
   "execution_count": 44,
   "metadata": {
    "scrolled": false
   },
   "outputs": [
    {
     "name": "stdout",
     "output_type": "stream",
     "text": [
      "Data Done\n",
      "Saved: ./Categories/Vegetables.csv\n",
      "Data Done\n",
      "Saved: ./Categories/Adjectives for People.csv\n",
      "Data Done\n",
      "Saved: ./Categories/Family Members.csv\n"
     ]
    }
   ],
   "source": [
    "hint_web = 'https://en.oxforddictionaries.com/definition/'\n",
    "Selected_Lists = ['Vegetables', 'Adjectives for People', 'Family Members']\n",
    "for i in range(len(Selected_Lists)) :\n",
    "    ind = Lists.index(Selected_Lists[i])\n",
    "    word_web =  web + Links[ind]\n",
    "    word_page = requests.get(word_web)\n",
    "    word_tree = html.fromstring(word_page.content)\n",
    "    # @Example <li>pink</li>\n",
    "    words = word_tree.xpath('//li/text()')\n",
    "    # print(words)\n",
    "    hint_list = []\n",
    "    for w in range(len(words)) :\n",
    "        hint_page = requests.get(hint_web + words[w])\n",
    "        hint_tree = html.fromstring(hint_page.content)\n",
    "        # @Example <p><span class=\"iteration\">1</span><span class=\"ind\"></span></p>\n",
    "        Hints = hint_tree.xpath('//span[@class=\"ind\"]/text()')\n",
    "        if (Hints == []):\n",
    "            Hints = 'This is a word in ' + Selected_Lists[i] + '. :]'\n",
    "        else :\n",
    "            Hints = Hints[0]\n",
    "        hint_list.append(Hints)\n",
    "    # print(hint_list)\n",
    "\n",
    "    data = { 'words' : words,\n",
    "             'hints' : hint_list}\n",
    "    print('Data Done')\n",
    "\n",
    "    #     ### JSON File \n",
    "    #     filename = './Categories/' + Lists[i] + '.json'\n",
    "    #     with open(filename, \"w\") as write_file:\n",
    "    #         json.dump(data, write_file)\n",
    "\n",
    "    ### CSV File\n",
    "    filename = './Categories/' + Lists[ind] + '.csv'\n",
    "    df = pd.DataFrame(data)\n",
    "    df.to_csv(filename, index=False)\n",
    "\n",
    "    print(\"Saved: \" + filename)"
   ]
  }
 ],
 "metadata": {
  "kernelspec": {
   "display_name": "Python 3",
   "language": "python",
   "name": "python3"
  },
  "language_info": {
   "codemirror_mode": {
    "name": "ipython",
    "version": 3
   },
   "file_extension": ".py",
   "mimetype": "text/x-python",
   "name": "python",
   "nbconvert_exporter": "python",
   "pygments_lexer": "ipython3",
   "version": "3.6.4"
  }
 },
 "nbformat": 4,
 "nbformat_minor": 2
}
